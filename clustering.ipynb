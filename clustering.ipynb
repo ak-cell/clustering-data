{
 "cells": [
  {
   "cell_type": "code",
   "execution_count": 32,
   "metadata": {},
   "outputs": [],
   "source": [
    "import pandas as pd\n",
    "import numpy as np\n",
    "import matplotlib.pyplot as plt\n",
    "from sklearn.cluster import KMeans\n",
    "%matplotlib inline"
   ]
  },
  {
   "cell_type": "markdown",
   "metadata": {},
   "source": [
    "We will generate some random data:"
   ]
  },
  {
   "cell_type": "code",
   "execution_count": 8,
   "metadata": {},
   "outputs": [
    {
     "data": {
      "image/png": "[encoded data removed]",
      "text/plain": [
       "<Figure size 432x288 with 1 Axes>"
      ]
     },
     "metadata": {
      "needs_background": "light"
     },
     "output_type": "display_data"
    }
   ],
   "source": [
    "X=-2*np.random.rand(100,2)\n",
    "X1=1+2*np.random.rand(50,2)\n",
    "X[50:100,:]=X1\n",
    "plt.scatter(X[:,0],X[:,1],s=50,c='b')\n",
    "plt.show()\n"
   ]
  },
  {
   "cell_type": "code",
   "execution_count": 18,
   "metadata": {},
   "outputs": [
    {
     "data": {
      "text/plain": [
       "array([[-1.45183783, -1.53404696],\n",
       "       [-0.97495941, -1.49023928],\n",
       "       [-1.39722933, -1.99147325],\n",
       "       [-1.17906698, -0.50284571],\n",
       "       [-1.54200095, -0.20960922],\n",
       "       [-1.85422785, -1.38974408],\n",
       "       [-0.11601636, -1.16256803],\n",
       "       [-0.06277696, -1.96679876],\n",
       "       [-1.50828575, -0.96048429],\n",
       "       [-1.11675453, -0.36639262],\n",
       "       [-1.63265883, -1.43942862],\n",
       "       [-0.09976272, -0.65095067],\n",
       "       [-0.46446625, -1.81151393],\n",
       "       [-1.21127811, -1.72010361],\n",
       "       [-0.43936902, -1.14780923],\n",
       "       [-0.91859632, -1.91189922],\n",
       "       [-1.03956604, -0.42469787],\n",
       "       [-1.84622459, -1.20446367],\n",
       "       [-1.72829818, -0.78035695],\n",
       "       [-0.32646113, -1.14396616],\n",
       "       [-0.12398982, -0.98609538],\n",
       "       [-0.23033459, -1.75204001],\n",
       "       [-0.31970344, -0.655088  ],\n",
       "       [-0.81253301, -0.30706109],\n",
       "       [-1.43217169, -1.66837413],\n",
       "       [-0.16043452, -0.26819513],\n",
       "       [-1.87336839, -1.70417516],\n",
       "       [-0.7920698 , -1.09497583],\n",
       "       [-1.8337538 , -1.20761186],\n",
       "       [-0.04400554, -1.57913533],\n",
       "       [-0.5844283 , -1.0971381 ],\n",
       "       [-1.06392801, -1.76167556],\n",
       "       [-1.26732666, -0.73634239],\n",
       "       [-0.21931431, -0.40304193],\n",
       "       [-0.32822588, -0.14610599],\n",
       "       [-0.37430828, -1.00269354],\n",
       "       [-1.24855269, -1.29163716],\n",
       "       [-1.03774973, -0.23174213],\n",
       "       [-0.35803783, -1.7057363 ],\n",
       "       [-0.09729041, -1.00062504],\n",
       "       [-1.6380873 , -1.13859943],\n",
       "       [-1.98264719, -0.18916688],\n",
       "       [-0.57383225, -0.83077254],\n",
       "       [-1.7790089 , -0.04248285],\n",
       "       [-0.85723577, -0.22907587],\n",
       "       [-0.14195909, -1.47860884],\n",
       "       [-0.08006171, -1.15524767],\n",
       "       [-1.11354101, -1.72830089],\n",
       "       [-0.08866288, -0.32081828],\n",
       "       [-0.51880448, -0.13867645],\n",
       "       [ 2.61415526,  2.31167285],\n",
       "       [ 1.10820384,  2.28076807],\n",
       "       [ 2.45630043,  1.82528547],\n",
       "       [ 2.41496792,  2.61147359],\n",
       "       [ 2.4998306 ,  2.39678807],\n",
       "       [ 1.2308608 ,  2.51917519],\n",
       "       [ 1.28500173,  1.00338155],\n",
       "       [ 2.64442418,  2.25442411],\n",
       "       [ 2.98064451,  1.69268846],\n",
       "       [ 1.44601561,  1.25378565],\n",
       "       [ 2.18636481,  1.83317865],\n",
       "       [ 2.40079589,  2.65749005],\n",
       "       [ 2.42227745,  2.22044505],\n",
       "       [ 2.32980149,  1.61536459],\n",
       "       [ 1.45570157,  1.02218504],\n",
       "       [ 2.5589129 ,  1.36470162],\n",
       "       [ 2.45429251,  1.05945975],\n",
       "       [ 1.01166334,  1.23620157],\n",
       "       [ 2.76071815,  2.56054033],\n",
       "       [ 2.28758007,  2.32739648],\n",
       "       [ 2.54189724,  1.3470619 ],\n",
       "       [ 1.53685068,  2.93924812],\n",
       "       [ 2.46487293,  2.76525056],\n",
       "       [ 2.04299925,  1.95624386],\n",
       "       [ 1.44237413,  1.02515524],\n",
       "       [ 1.99846034,  2.0883842 ],\n",
       "       [ 1.22525385,  1.56587042],\n",
       "       [ 1.29217211,  1.82303973],\n",
       "       [ 1.50740972,  2.21917179],\n",
       "       [ 1.80925809,  2.29066789],\n",
       "       [ 1.13245778,  1.78982315],\n",
       "       [ 2.59483278,  1.58931819],\n",
       "       [ 2.83753294,  1.73586014],\n",
       "       [ 2.18957943,  2.12994391],\n",
       "       [ 1.33493708,  2.03691723],\n",
       "       [ 2.40891218,  2.09127063],\n",
       "       [ 2.28894527,  2.34691052],\n",
       "       [ 1.72074695,  1.005174  ],\n",
       "       [ 1.04239617,  2.87745448],\n",
       "       [ 2.29100877,  2.71529858],\n",
       "       [ 2.9091189 ,  1.18514536],\n",
       "       [ 2.24943942,  1.58909124],\n",
       "       [ 1.68583322,  2.6916761 ],\n",
       "       [ 1.24135207,  1.65522881],\n",
       "       [ 1.39967564,  2.13162988],\n",
       "       [ 1.44118761,  1.6641988 ],\n",
       "       [ 1.68989158,  1.78202341],\n",
       "       [ 2.76873524,  2.42583535],\n",
       "       [ 2.44048261,  2.3694747 ],\n",
       "       [ 2.16957133,  1.14360289]])"
      ]
     },
     "execution_count": 18,
     "metadata": {},
     "output_type": "execute_result"
    }
   ],
   "source": [
    "X"
   ]
  },
  {
   "cell_type": "code",
   "execution_count": 9,
   "metadata": {},
   "outputs": [
    {
     "data": {
      "text/plain": [
       "KMeans(algorithm='auto', copy_x=True, init='k-means++', max_iter=300,\n",
       "    n_clusters=2, n_init=10, n_jobs=None, precompute_distances='auto',\n",
       "    random_state=None, tol=0.0001, verbose=0)"
      ]
     },
     "execution_count": 9,
     "metadata": {},
     "output_type": "execute_result"
    }
   ],
   "source": [
    "from sklearn.cluster import KMeans\n",
    "KMean=KMeans(n_clusters=2)\n",
    "KMean.fit(X)"
   ]
  },
  {
   "cell_type": "code",
   "execution_count": 10,
   "metadata": {},
   "outputs": [
    {
     "data": {
      "text/plain": [
       "array([[-0.87770409, -1.03321264],\n",
       "       [ 2.00493397,  1.94044754]])"
      ]
     },
     "execution_count": 10,
     "metadata": {},
     "output_type": "execute_result"
    }
   ],
   "source": [
    "KMean.cluster_centers_"
   ]
  },
  {
   "cell_type": "code",
   "execution_count": 14,
   "metadata": {},
   "outputs": [
    {
     "data": {
      "image/png": "[encoded data removed]",
      "text/plain": [
       "<Figure size 432x288 with 1 Axes>"
      ]
     },
     "metadata": {
      "needs_background": "light"
     },
     "output_type": "display_data"
    }
   ],
   "source": [
    "plt.scatter(X[:,0],X[:,1],s=50,c='b')\n",
    "plt.scatter(-0.87770409, -1.03321264,s=200,c='green',marker='s')\n",
    "plt.scatter(2.00493397,  1.94044754,s=200,c='red',marker='o')\n",
    "plt.show()"
   ]
  },
  {
   "cell_type": "code",
   "execution_count": 15,
   "metadata": {},
   "outputs": [
    {
     "data": {
      "text/plain": [
       "array([0, 0, 0, 0, 0, 0, 0, 0, 0, 0, 0, 0, 0, 0, 0, 0, 0, 0, 0, 0, 0, 0,\n",
       "       0, 0, 0, 0, 0, 0, 0, 0, 0, 0, 0, 0, 0, 0, 0, 0, 0, 0, 0, 0, 0, 0,\n",
       "       0, 0, 0, 0, 0, 0, 1, 1, 1, 1, 1, 1, 1, 1, 1, 1, 1, 1, 1, 1, 1, 1,\n",
       "       1, 1, 1, 1, 1, 1, 1, 1, 1, 1, 1, 1, 1, 1, 1, 1, 1, 1, 1, 1, 1, 1,\n",
       "       1, 1, 1, 1, 1, 1, 1, 1, 1, 1, 1, 1])"
      ]
     },
     "execution_count": 15,
     "metadata": {},
     "output_type": "execute_result"
    }
   ],
   "source": [
    "KMean.labels_"
   ]
  },
  {
   "cell_type": "markdown",
   "metadata": {},
   "source": [
    "# Clustering on cricket data set to find batsman and bowlers using unsupervised learning"
   ]
  },
  {
   "cell_type": "code",
   "execution_count": 23,
   "metadata": {},
   "outputs": [
    {
     "data": {
      "text/html": [
       "<div>\n",
       "<style scoped>\n",
       "    .dataframe tbody tr th:only-of-type {\n",
       "        vertical-align: middle;\n",
       "    }\n",
       "\n",
       "    .dataframe tbody tr th {\n",
       "        vertical-align: top;\n",
       "    }\n",
       "\n",
       "    .dataframe thead th {\n",
       "        text-align: right;\n",
       "    }\n",
       "</style>\n",
       "<table border=\"1\" class=\"dataframe\">\n",
       "  <thead>\n",
       "    <tr style=\"text-align: right;\">\n",
       "      <th></th>\n",
       "      <th>Player</th>\n",
       "      <th>Runs</th>\n",
       "      <th>Wickets</th>\n",
       "    </tr>\n",
       "  </thead>\n",
       "  <tbody>\n",
       "    <tr>\n",
       "      <th>0</th>\n",
       "      <td>Sachin Tendulkar</td>\n",
       "      <td>18426</td>\n",
       "      <td>192</td>\n",
       "    </tr>\n",
       "    <tr>\n",
       "      <th>1</th>\n",
       "      <td>Kripal Singh</td>\n",
       "      <td>12458</td>\n",
       "      <td>0</td>\n",
       "    </tr>\n",
       "    <tr>\n",
       "      <th>2</th>\n",
       "      <td>Fakhar Zaman</td>\n",
       "      <td>9840</td>\n",
       "      <td>421</td>\n",
       "    </tr>\n",
       "    <tr>\n",
       "      <th>3</th>\n",
       "      <td>Aavishkar Salvi</td>\n",
       "      <td>3467</td>\n",
       "      <td>480</td>\n",
       "    </tr>\n",
       "    <tr>\n",
       "      <th>4</th>\n",
       "      <td>Abbas Ali</td>\n",
       "      <td>4877</td>\n",
       "      <td>512</td>\n",
       "    </tr>\n",
       "  </tbody>\n",
       "</table>\n",
       "</div>"
      ],
      "text/plain": [
       "             Player   Runs  Wickets\n",
       "0  Sachin Tendulkar  18426      192\n",
       "1      Kripal Singh  12458        0\n",
       "2      Fakhar Zaman   9840      421\n",
       "3   Aavishkar Salvi   3467      480\n",
       "4         Abbas Ali   4877      512"
      ]
     },
     "execution_count": 23,
     "metadata": {},
     "output_type": "execute_result"
    }
   ],
   "source": [
    "#Importing datasets\n",
    "data=pd.read_excel('C:/Users/aksha/Desktop/ai/datasets/cricket_data.xlsx')\n",
    "data.head()"
   ]
  },
  {
   "cell_type": "code",
   "execution_count": 25,
   "metadata": {},
   "outputs": [
    {
     "data": {
      "text/plain": [
       "<matplotlib.collections.PathCollection at 0x1e78bb6e668>"
      ]
     },
     "execution_count": 25,
     "metadata": {},
     "output_type": "execute_result"
    },
    {
     "data": {
      "image/png": "[encoded data removed]",
      "text/plain": [
       "<Figure size 432x288 with 1 Axes>"
      ]
     },
     "metadata": {
      "needs_background": "light"
     },
     "output_type": "display_data"
    }
   ],
   "source": [
    "#Getting the values and plotting it\n",
    "f1=data['Runs'].values\n",
    "f2=data['Wickets'].values\n",
    "X=np.array(list(zip(f1,f2)))\n",
    "plt.scatter(f1,f2,c='red',s=10)"
   ]
  },
  {
   "cell_type": "code",
   "execution_count": 28,
   "metadata": {},
   "outputs": [],
   "source": [
    "from sklearn.cluster import KMeans\n",
    "#Number of clusters\n",
    "kmeans=KMeans(n_clusters=3)\n",
    "#Fitting the input data\n",
    "kmeans=kmeans.fit(X)\n",
    "#Getting the cluster labels\n",
    "labels=kmeans.predict(X)\n",
    "#Centroid values\n",
    "centroids=kmeans.cluster_centers_"
   ]
  },
  {
   "cell_type": "code",
   "execution_count": 29,
   "metadata": {},
   "outputs": [
    {
     "name": "stdout",
     "output_type": "stream",
     "text": [
      "[1 2 2 0 0 2 0 0 0 0 2 2 2]\n"
     ]
    }
   ],
   "source": [
    "print(labels) #from scikit learn"
   ]
  },
  {
   "cell_type": "code",
   "execution_count": 34,
   "metadata": {},
   "outputs": [
    {
     "data": {
      "text/html": [
       "<div>\n",
       "<style scoped>\n",
       "    .dataframe tbody tr th:only-of-type {\n",
       "        vertical-align: middle;\n",
       "    }\n",
       "\n",
       "    .dataframe tbody tr th {\n",
       "        vertical-align: top;\n",
       "    }\n",
       "\n",
       "    .dataframe thead th {\n",
       "        text-align: right;\n",
       "    }\n",
       "</style>\n",
       "<table border=\"1\" class=\"dataframe\">\n",
       "  <thead>\n",
       "    <tr style=\"text-align: right;\">\n",
       "      <th></th>\n",
       "      <th>Player</th>\n",
       "      <th>Runs</th>\n",
       "      <th>Wickets</th>\n",
       "      <th>Label</th>\n",
       "    </tr>\n",
       "  </thead>\n",
       "  <tbody>\n",
       "    <tr>\n",
       "      <th>0</th>\n",
       "      <td>Sachin Tendulkar</td>\n",
       "      <td>18426</td>\n",
       "      <td>192</td>\n",
       "      <td>1</td>\n",
       "    </tr>\n",
       "    <tr>\n",
       "      <th>1</th>\n",
       "      <td>Kripal Singh</td>\n",
       "      <td>12458</td>\n",
       "      <td>0</td>\n",
       "      <td>2</td>\n",
       "    </tr>\n",
       "    <tr>\n",
       "      <th>2</th>\n",
       "      <td>Fakhar Zaman</td>\n",
       "      <td>9840</td>\n",
       "      <td>421</td>\n",
       "      <td>2</td>\n",
       "    </tr>\n",
       "    <tr>\n",
       "      <th>3</th>\n",
       "      <td>Aavishkar Salvi</td>\n",
       "      <td>3467</td>\n",
       "      <td>480</td>\n",
       "      <td>0</td>\n",
       "    </tr>\n",
       "    <tr>\n",
       "      <th>4</th>\n",
       "      <td>Abbas Ali</td>\n",
       "      <td>4877</td>\n",
       "      <td>512</td>\n",
       "      <td>0</td>\n",
       "    </tr>\n",
       "    <tr>\n",
       "      <th>5</th>\n",
       "      <td>Brian Lara</td>\n",
       "      <td>10405</td>\n",
       "      <td>12</td>\n",
       "      <td>2</td>\n",
       "    </tr>\n",
       "    <tr>\n",
       "      <th>6</th>\n",
       "      <td>James Anderson</td>\n",
       "      <td>3287</td>\n",
       "      <td>575</td>\n",
       "      <td>0</td>\n",
       "    </tr>\n",
       "    <tr>\n",
       "      <th>7</th>\n",
       "      <td>Dale Steyn</td>\n",
       "      <td>2145</td>\n",
       "      <td>437</td>\n",
       "      <td>0</td>\n",
       "    </tr>\n",
       "    <tr>\n",
       "      <th>8</th>\n",
       "      <td>Wasim Akram</td>\n",
       "      <td>4562</td>\n",
       "      <td>502</td>\n",
       "      <td>0</td>\n",
       "    </tr>\n",
       "    <tr>\n",
       "      <th>9</th>\n",
       "      <td>Glenn McGrath</td>\n",
       "      <td>2543</td>\n",
       "      <td>381</td>\n",
       "      <td>0</td>\n",
       "    </tr>\n",
       "    <tr>\n",
       "      <th>10</th>\n",
       "      <td>Chris Gayle</td>\n",
       "      <td>10151</td>\n",
       "      <td>14</td>\n",
       "      <td>2</td>\n",
       "    </tr>\n",
       "    <tr>\n",
       "      <th>11</th>\n",
       "      <td>Rahul Dravid</td>\n",
       "      <td>10889</td>\n",
       "      <td>0</td>\n",
       "      <td>2</td>\n",
       "    </tr>\n",
       "    <tr>\n",
       "      <th>12</th>\n",
       "      <td>Jacques Kallis</td>\n",
       "      <td>11579</td>\n",
       "      <td>142</td>\n",
       "      <td>2</td>\n",
       "    </tr>\n",
       "  </tbody>\n",
       "</table>\n",
       "</div>"
      ],
      "text/plain": [
       "              Player   Runs  Wickets  Label\n",
       "0   Sachin Tendulkar  18426      192      1\n",
       "1       Kripal Singh  12458        0      2\n",
       "2       Fakhar Zaman   9840      421      2\n",
       "3    Aavishkar Salvi   3467      480      0\n",
       "4          Abbas Ali   4877      512      0\n",
       "5         Brian Lara  10405       12      2\n",
       "6     James Anderson   3287      575      0\n",
       "7         Dale Steyn   2145      437      0\n",
       "8        Wasim Akram   4562      502      0\n",
       "9      Glenn McGrath   2543      381      0\n",
       "10       Chris Gayle  10151       14      2\n",
       "11      Rahul Dravid  10889        0      2\n",
       "12    Jacques Kallis  11579      142      2"
      ]
     },
     "execution_count": 34,
     "metadata": {},
     "output_type": "execute_result"
    }
   ],
   "source": [
    "pd.DataFrame({'Player':data['Player'],'Runs':data['Runs'],'Wickets':data['Wickets'],'Label':labels})"
   ]
  },
  {
   "cell_type": "code",
   "execution_count": null,
   "metadata": {},
   "outputs": [],
   "source": []
  }
 ],
 "metadata": {
  "kernelspec": {
   "display_name": "Python 3",
   "language": "python",
   "name": "python3"
  },
  "language_info": {
   "codemirror_mode": {
    "name": "ipython",
    "version": 3
   },
   "file_extension": ".py",
   "mimetype": "text/x-python",
   "name": "python",
   "nbconvert_exporter": "python",
   "pygments_lexer": "ipython3",
   "version": "3.6.5"
  }
 },
 "nbformat": 4,
 "nbformat_minor": 2
}
